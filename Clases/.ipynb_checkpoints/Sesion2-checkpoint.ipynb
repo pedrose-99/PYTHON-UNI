{
 "cells": [
  {
   "cell_type": "markdown",
   "metadata": {},
   "source": [
    "# Capítulo 2: Excepciones y Argumentos\n",
    "\n",
    "## 1. Excepciones\n",
    "\n",
    "Un añadido a las técnicas de programación aprendidas durante la asignatura Fundamentos de la Programación es la posibilidad de controlar las excepciones. Gracias a ello, seremos capaces de controlar nuestro código en el supuesto de que el usuario introduzca información incorrecta (Por ejemplo, si pedimos un número e introduce una letra). \n",
    "\n",
    "Aunque manejar excepciones mejora la fluidez y comportamiento de nuestro programa, es **recomendable no controlar las excepciones hasta que hayamos finalizado nuestro programa y hayamos comprobado que en la situación ideal funciona correctamente**. Una mala gestión de las excepciones puede hacernos imposible la depuración del código. \n",
    "\n",
    "Las excepciones se gestionan con las sentencias **try** y **except** tal y como se muestra a continuación:"
   ]
  },
  {
   "cell_type": "code",
   "execution_count": null,
   "metadata": {},
   "outputs": [],
   "source": [
    "try:\n",
    "    num1 = float(input(\"Please, introduce a float: \"))\n",
    "    num2 = float(input(\"Please, introduce another float: \"))\n",
    "    print(\"The result of the division is:\", round(num1/num2, 3))\n",
    "except ValueError:\n",
    "    # excepción que salta si introducimos una letra, por ejemplo.\n",
    "    print(\"Sorry, you have introduced a wrong value.\")\n",
    "except ZeroDivisionError:\n",
    "    # excepción que salta si se intenta dividir entre cero\n",
    "    print(\"Sorry, division by zero is not supported in basic Python.\")\n",
    "except Exception as e:\n",
    "    # Con esta sentencia se recogerían todas las excepciones y se imprimiría la excepción. Es recomendable \n",
    "    # cuando se está programando para depurar el código sin necesidad de controlar todas y cada una de las excepciones\n",
    "    # pero debe desaparecer en el código final.\n",
    "    print(\"Generic exception, shown here...\")\n",
    "    print(e)\n",
    "except KeyboardInterrupt:\n",
    "    # Si el usuario presiona Ctrl + C durante la ejecución del código se lanza esta excepción.\n",
    "    # Controlarla nos permite salir del programa grácilmente\n",
    "    print(\"Execution interrupted by user.\")"
   ]
  },
  {
   "cell_type": "markdown",
   "metadata": {},
   "source": [
    "Gracias a la combinación de bucles con excepciones podemos controlar los valores introducidos por el usuario de una manera sencilla. Siempre que queramos controlar la entrada es posible seguir un código con la estructura que se presenta a continuación:"
   ]
  },
  {
   "cell_type": "code",
   "execution_count": 2,
   "metadata": {},
   "outputs": [
    {
     "name": "stdout",
     "output_type": "stream",
     "text": [
      "Enter a number: 1\n",
      "The number is:  1\n"
     ]
    }
   ],
   "source": [
    "#primero declaramos una variable para controlar la salida del bucle\n",
    "correct_input = False\n",
    "#Hasta que la entrada del usuario sea, iteramos\n",
    "while not correct_input:\n",
    "    #pedimos un número. Si el usuario introduce otra cosa se lanzaría la excepción ValueError,\n",
    "    #por lo que tenemos que controlarla.\n",
    "    try:\n",
    "        number = int(input(\"Enter a number: \"))\n",
    "        #Si la sentencia anterior se ejecuta quiere decir que se ha introducido un número.\n",
    "        #Por lo tanto, podemos salir del bucle\n",
    "        correct_input = True\n",
    "    except ValueError:\n",
    "        #Si se lanza la excepción podemos informar al usuario y volverle a pedir un número:\n",
    "        print(\"You didn't enter a number\")\n",
    "       \n",
    "print(\"The number is: \", number)"
   ]
  },
  {
   "cell_type": "markdown",
   "metadata": {},
   "source": [
    "El código anterior funciona como debería, pero puede ser mejorable. Este código es un claro ejemplo sobre como deberían afrontarse los problemas en esta asignatura. Es muy complicado dar con la solución perfecta de primeras, pero es muy sencillo dar con una solución e ir mejorándola con el tiempo. En este caso lo que haremos será que si se salta la excepción, pediremos el número sin escribir de nuevo \"Enter a number\". Además, si el usuario escribe la letra 'q' abandonaremos la ejecución."
   ]
  },
  {
   "cell_type": "code",
   "execution_count": null,
   "metadata": {},
   "outputs": [],
   "source": [
    "#primero declaramos una variable para controlar la salida del bucle\n",
    "correct_input = False\n",
    "#Hasta que la entrada del usuario sea, iteramos\n",
    "print(\"Enter a number:\")\n",
    "while not correct_input:\n",
    "    #pedimos un número. Si el usuario introduce otra cosa se lanzaría la excepción ValueError,\n",
    "    #por lo que tenemos que controlarla.\n",
    "    try:\n",
    "        number = input()\n",
    "        number = int(number)\n",
    "        #Si la sentencia anterior se ejecuta quiere decir que se ha introducido un número.\n",
    "        #Por lo tanto, podemos salir del bucle\n",
    "        correct_input = True\n",
    "    except ValueError:\n",
    "        #Si se lanza la excepción podemos informar al usuario y volverle a pedir un número:\n",
    "        if number == \"q\":\n",
    "            correct_input = True\n",
    "        else:\n",
    "            print(\"You didn't enter a number. Try again:\", end='')\n",
    "if number == \"q\":\n",
    "    print(\"The user exited the program before entering a number\")\n",
    "else:\n",
    "    print(\"The number is: \", number)\n",
    "    \n",
    "#Debe notar que las llamadas a input funcionan diferente en Pycharm y en Jupyter Notebook. Lo correcto \n",
    "#es lo que se muestra siempre en la consola."
   ]
  },
  {
   "cell_type": "markdown",
   "metadata": {},
   "source": [
    "Serán muchas las ocasiones en las que sepamos que algo puede lanzar una excepción pero no sepamos exactamente el nombre de dicha excepción. En ese caso es recomendable crear un script de prueba para simular el error y averiguar de esa forma el nombre. "
   ]
  },
  {
   "cell_type": "markdown",
   "metadata": {},
   "source": [
    "# 2. Argumentos\n",
    "\n",
    "Un argumento es un valor que se le pasa al programa principal cuando se lanza desde la consola de comandos (python code.py [arg1] [arg2] [arg3] ...). No hay limitación con respecto al número de argumentos que se pueden pasar al programa, pero hay que tener en cuenta que siempre se pasaran en formato **string**."
   ]
  },
  {
   "cell_type": "code",
   "execution_count": 8,
   "metadata": {},
   "outputs": [
    {
     "name": "stdout",
     "output_type": "stream",
     "text": [
      "['f:\\\\python3\\\\lib\\\\site-packages\\\\ipykernel_launcher.py', '-f', 'C:\\\\Users\\\\davidytamara\\\\AppData\\\\Roaming\\\\jupyter\\\\runtime\\\\kernel-9e9754e4-2f30-4574-a7cc-37ee78d71dd9.json']\n"
     ]
    }
   ],
   "source": [
    "import sys\n",
    "## sys.argv es una lista donde se almacenan todos los argumentos\n",
    "print(sys.argv)\n",
    "for arg in sys.argv:\n",
    "    print(arg)\n",
    "    \n",
    "#si queremos acceder a un argumento en concreto:\n",
    "single_argv = [1]\n",
    "\n",
    "#En definitiva, sys.argv funciona de la misma forma que una lista normal.\n",
    "#No hay mucho más.\n"
   ]
  },
  {
   "cell_type": "markdown",
   "metadata": {},
   "source": [
    "Aunque es posible leer los argumentos a mano, existen numerosos módulos que permiten leer todos los argumentos a la vez con facilidad. En este caso utilizaremos el módulo getopt. En el siguiente ejemplo se lee el argumento -f del ejemplo anterior"
   ]
  },
  {
   "cell_type": "code",
   "execution_count": 10,
   "metadata": {},
   "outputs": [
    {
     "name": "stdout",
     "output_type": "stream",
     "text": [
      "['f:\\\\python3\\\\lib\\\\site-packages\\\\ipykernel_launcher.py', '-f', 'C:\\\\Users\\\\davidytamara\\\\AppData\\\\Roaming\\\\jupyter\\\\runtime\\\\kernel-9e9754e4-2f30-4574-a7cc-37ee78d71dd9.json']\n"
     ]
    },
    {
     "data": {
      "text/plain": [
       "'C:\\\\Users\\\\davidytamara\\\\AppData\\\\Roaming\\\\jupyter\\\\runtime\\\\kernel-9e9754e4-2f30-4574-a7cc-37ee78d71dd9.json'"
      ]
     },
     "execution_count": 10,
     "metadata": {},
     "output_type": "execute_result"
    }
   ],
   "source": [
    "def parse_args():\n",
    "    import getopt, sys\n",
    "    number_players = 1\n",
    "    number_stages = 1\n",
    "    opts, args = getopt.getopt(sys.argv[1:], \"f:\", [\"f=\"])\n",
    "    for o, a in opts:\n",
    "        if o in (\"-f\", \"--f\"):\n",
    "            arg = a\n",
    "    return arg\n",
    "print(sys.argv)\n",
    "parse_args()"
   ]
  },
  {
   "cell_type": "code",
   "execution_count": null,
   "metadata": {},
   "outputs": [],
   "source": []
  }
 ],
 "metadata": {
  "kernelspec": {
   "display_name": "Python 3",
   "language": "python",
   "name": "python3"
  },
  "language_info": {
   "codemirror_mode": {
    "name": "ipython",
    "version": 3
   },
   "file_extension": ".py",
   "mimetype": "text/x-python",
   "name": "python",
   "nbconvert_exporter": "python",
   "pygments_lexer": "ipython3",
   "version": "3.6.9"
  }
 },
 "nbformat": 4,
 "nbformat_minor": 4
}
