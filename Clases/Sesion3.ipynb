{
 "cells": [
  {
   "cell_type": "markdown",
   "metadata": {},
   "source": [
    "# Capítulo 3: Módulos y clases\n",
    "\n",
    "## 1. Módulos\n",
    "\n",
    "Durante esta asignatura veremos que muchas de las operaciones que deseamos realizar ya han sido implementadas por otros desarrolladores y encapsuladas en lo que en Python se llaman módulos. Algunos de estos módulos ya están incluidos en la instalación inicial de Python, pero otros no lo están. Para instalarlos debemos ejecutar en la terminal la instrucción:\n",
    "    \n",
    "    pip install nombremodulo\n",
    "    \n",
    "Una vez instalado el módulo podemos importarlo en nuestro código con la sentencia:\n",
    "\n",
    "    import nombremodulo\n",
    "    \n",
    "Si queremos utilizar algo perteneciente al módulo: nombremodulo.cosaquequeremosutilizar"
   ]
  },
  {
   "cell_type": "code",
   "execution_count": 1,
   "metadata": {},
   "outputs": [
    {
     "name": "stdout",
     "output_type": "stream",
     "text": [
      "The average is:  14.8\n"
     ]
    }
   ],
   "source": [
    "#ejemplo: vamos a calcular la media de los elementos de una lista\n",
    "number_list = [1, 4, 7, 12, 50]\n",
    "addition = 0\n",
    "for number in number_list:\n",
    "    addition = addition + number\n",
    "    \n",
    "print(\"The average is: \", addition / len(number_list))"
   ]
  },
  {
   "cell_type": "code",
   "execution_count": 2,
   "metadata": {},
   "outputs": [
    {
     "name": "stdout",
     "output_type": "stream",
     "text": [
      "The average is:  14.8\n"
     ]
    }
   ],
   "source": [
    "#Otra opción es:\n",
    "import statistics\n",
    "print(\"The average is: \", statistics.mean(number_list))"
   ]
  },
  {
   "cell_type": "markdown",
   "metadata": {},
   "source": [
    "Antes de empezar a programar es recomendable pensar en lo que se quiere hacer e investigar si hay un módulo que pueda ayudar con nuestras operaciones. De esta forma **programaremos menos** y por lo tanto reduciremos el número de errores que podamos cometer."
   ]
  },
  {
   "cell_type": "markdown",
   "metadata": {},
   "source": [
    "## 2. Clases\n",
    "\n",
    "Las clases son un medio de combinar una estructura de datos con funcionalidad propia de dicha estructura. Una clase es un nuevo tipo de objeto y que puede ser asignado a tantas variables como se desee (Instancia de la clase). Cada instancia tiene sus atributos (con sus valores) y también disponen de métodos (funciones) que permiten interactuar con ella.\n",
    "\n",
    "### 2.1 Conceptos básicos\n",
    "\n",
    "**Términos relevantes**\n",
    "\n",
    "    1.- Clase: Un objeto con un conjunto de atributos y métodos que caracterizan cualquier objeto de esta clase.\n",
    "    2.- Variable de clase: Variable que se comparte entre todas las instancias de la clase.\n",
    "    3.- Atributo: Variable con un valor propio para cada instancia de la clase.\n",
    "    4.- Sobrecarga de métodos: Asignación de más de un comportamiento a una función particular.\n",
    "    5.- Herencia: Transferencia de las características de una clase a otras clases que derivan de ella.\n",
    "    6.- Instancia: Un objeto individual de una clase.\n",
    "    7.- Instanciación: Creación de una instancia de la clase.\n",
    "    8.- Método: Una función propia de una clase.\n",
    "    9.- Sobrecarga de operadores: La asignación de más de una función a un operador particular.  \n"
   ]
  },
  {
   "cell_type": "code",
   "execution_count": 14,
   "metadata": {},
   "outputs": [
    {
     "name": "stdout",
     "output_type": "stream",
     "text": [
      "Hi! I am David Roldán Álvarez. I am 30 years old\n"
     ]
    }
   ],
   "source": [
    "class Person:\n",
    "    \n",
    "    \n",
    "    def __init__(self, name, surname, age):\n",
    "        self.name = name\n",
    "        self.surname = surname\n",
    "        self.array_numbers = []\n",
    "        self.age = age\n",
    "        \n",
    "        \n",
    "    def display_attributes(self):\n",
    "        print(\"Hi! I am {} {}. I am {} years old\".format(self.name, self.surname, self.age))\n",
    "        \n",
    "\n",
    "david = Person(\"David\", \"Roldán Álvarez\", 30)\n",
    "david.display_attributes()\n",
    "        "
   ]
  },
  {
   "cell_type": "markdown",
   "metadata": {},
   "source": [
    "Es importante destacar que a la hora de almacenar y modificar los atributos de una instancia, la instancia funciona como un puntero y no como una variable. Pongamos los siguientes ejemplos."
   ]
  },
  {
   "cell_type": "code",
   "execution_count": 15,
   "metadata": {},
   "outputs": [],
   "source": [
    "def add(x):\n",
    "    x = x + 1\n",
    "\n",
    "x = 2\n",
    "add(x)\n",
    "#  ¿valor de x?"
   ]
  },
  {
   "cell_type": "code",
   "execution_count": 16,
   "metadata": {},
   "outputs": [
    {
     "name": "stdout",
     "output_type": "stream",
     "text": [
      "Hi! I am Sergio Roldán Álvarez. I am 30 years old\n"
     ]
    }
   ],
   "source": [
    "def change_name(person_class):\n",
    "    person_class.name = \"Sergio\"\n",
    "\n",
    "change_name(david)\n",
    "#¿cuál es el nombre de la instancia david?\n",
    "david.display_attributes()"
   ]
  },
  {
   "cell_type": "markdown",
   "metadata": {},
   "source": [
    "Para evitar confusiones y descontroles en nuestros programas, es **recomendable** (**obligatorio**) que si es necesario realizar operaciones que modifiquen un atributo de una instancia se defina el método necesario para ello en la propia clase. Siguiendo el ejemplo anterior, tendríamos:"
   ]
  },
  {
   "cell_type": "code",
   "execution_count": 17,
   "metadata": {},
   "outputs": [
    {
     "name": "stdout",
     "output_type": "stream",
     "text": [
      "Hi! I am Sergio Roldán Álvarez. I am 30 years old\n"
     ]
    }
   ],
   "source": [
    "class Person:\n",
    "    \n",
    "    def __init__(self, name, surname, age):\n",
    "        self.name = name\n",
    "        self.surname = surname\n",
    "        self.array_numbers = []\n",
    "        self.age = age\n",
    "     \n",
    "    #definimos una funcion que recibe el nombre y cambia el nombre de la instancia.\n",
    "    def change_name(self, name):\n",
    "        self.name = name\n",
    "        \n",
    "    def display_attributes(self):\n",
    "        print(\"Hi! I am {} {}. I am {} years old\".format(self.name, self.surname, self.age))\n",
    "        \n",
    "david = Person(\"David\", \"Roldán Álvarez\", 30)\n",
    "david.change_name(\"Sergio\")\n",
    "david.display_attributes()\n",
    "        "
   ]
  },
  {
   "cell_type": "markdown",
   "metadata": {},
   "source": [
    "### 2.2 Métodos privados y estáticos\n",
    "\n",
    "En muchas ocasiones (sobre todo por seguridad) nuestras clases dispondrán de métodos privados. Estos métodos son accesibles dentro de la propia clase, pero no podrán utilizarse fuera de la misma. Los atributos de una clase también pueden ser privados. Para hacer que un atributo o un método sean privados únicamente hay que añadir un doble guión bajo delante del nombre del atributo o del método.\n",
    "\n",
    "\n",
    "\n"
   ]
  },
  {
   "cell_type": "code",
   "execution_count": 21,
   "metadata": {},
   "outputs": [
    {
     "name": "stdout",
     "output_type": "stream",
     "text": [
      "This is a private function\n",
      "Hi! I am David Roldán Álvarez. I am 30 years old. My DNI is 58596541G.\n"
     ]
    }
   ],
   "source": [
    "class Person:\n",
    "    \n",
    "    def __init__(self, name, surname, age):\n",
    "        self.name = name\n",
    "        self.surname = surname\n",
    "        self.array_numbers = []\n",
    "        self.age = age\n",
    "        #atributo privado\n",
    "        self.__dni = \"58596541G\"\n",
    "     \n",
    "    #definimos una funcion que recibe el nombre y cambia el nombre de la instancia.\n",
    "    def change_name(self, name):\n",
    "        self.name = name\n",
    "    \n",
    "    #función privada\n",
    "    def __private_function(self):\n",
    "        print(\"This is a private function\")\n",
    "        \n",
    "    def display_attributes(self):\n",
    "        self.__private_function()\n",
    "        print(\"Hi! I am {} {}. I am {} years old. My DNI is {}.\".format(self.name, self.surname, self.age, self.__dni))\n",
    "        \n",
    "david = Person(\"David\", \"Roldán Álvarez\", 30)\n",
    "david.display_attributes()"
   ]
  },
  {
   "cell_type": "code",
   "execution_count": 20,
   "metadata": {},
   "outputs": [
    {
     "ename": "AttributeError",
     "evalue": "'Person' object has no attribute '__private_function'",
     "output_type": "error",
     "traceback": [
      "\u001b[1;31m---------------------------------------------------------------------------\u001b[0m",
      "\u001b[1;31mAttributeError\u001b[0m                            Traceback (most recent call last)",
      "\u001b[1;32m<ipython-input-20-5e445c8ee8a7>\u001b[0m in \u001b[0;36m<module>\u001b[1;34m\u001b[0m\n\u001b[1;32m----> 1\u001b[1;33m \u001b[0mdavid\u001b[0m\u001b[1;33m.\u001b[0m\u001b[0m__private_function\u001b[0m\u001b[1;33m(\u001b[0m\u001b[1;33m)\u001b[0m\u001b[1;33m\u001b[0m\u001b[1;33m\u001b[0m\u001b[0m\n\u001b[0m",
      "\u001b[1;31mAttributeError\u001b[0m: 'Person' object has no attribute '__private_function'"
     ]
    }
   ],
   "source": [
    "#ésto no funciona\n",
    "david.__private_function()"
   ]
  },
  {
   "cell_type": "code",
   "execution_count": 22,
   "metadata": {},
   "outputs": [
    {
     "ename": "AttributeError",
     "evalue": "'Person' object has no attribute '__dni'",
     "output_type": "error",
     "traceback": [
      "\u001b[1;31m---------------------------------------------------------------------------\u001b[0m",
      "\u001b[1;31mAttributeError\u001b[0m                            Traceback (most recent call last)",
      "\u001b[1;32m<ipython-input-22-aa01b3dedbe5>\u001b[0m in \u001b[0;36m<module>\u001b[1;34m\u001b[0m\n\u001b[1;32m----> 1\u001b[1;33m \u001b[0mprint\u001b[0m\u001b[1;33m(\u001b[0m\u001b[0mdavid\u001b[0m\u001b[1;33m.\u001b[0m\u001b[0m__dni\u001b[0m\u001b[1;33m)\u001b[0m\u001b[1;33m\u001b[0m\u001b[1;33m\u001b[0m\u001b[0m\n\u001b[0m",
      "\u001b[1;31mAttributeError\u001b[0m: 'Person' object has no attribute '__dni'"
     ]
    }
   ],
   "source": [
    "#ésto tampoco funciona\n",
    "print(david.__dni)"
   ]
  },
  {
   "cell_type": "markdown",
   "metadata": {},
   "source": [
    "Un método estático es aquel que, aún siendo parte de una clase, no utiliza los elementos de una clase para su correcto funcionamiento. Un método estático no recibirá como argumento 'self' y justo en la línea anterior se decorará con el nombre @staticmethod. En muchas ocasiones se utilizan métodos estáticos en clases que contienen únicamente funciones para realizar determinadas operaciones:"
   ]
  },
  {
   "cell_type": "code",
   "execution_count": 25,
   "metadata": {},
   "outputs": [
    {
     "data": {
      "text/plain": [
       "11"
      ]
     },
     "execution_count": 25,
     "metadata": {},
     "output_type": "execute_result"
    }
   ],
   "source": [
    "#no hay una función __init__, lo que indica que la clase no se puede instanciar.\n",
    "class statistics:\n",
    "    \n",
    "    @staticmethod\n",
    "    def add(x, y):\n",
    "        return x + y\n",
    "    \n",
    "    @staticmethod\n",
    "    def mult(x, y):\n",
    "        return x * y\n",
    "    \n",
    "x, y = 5, 6   \n",
    "statistics.add(x,y)\n",
    "#como se puede observar, una clase con sólo métodos estáticos funciona como un módulo."
   ]
  },
  {
   "cell_type": "code",
   "execution_count": 29,
   "metadata": {},
   "outputs": [
    {
     "name": "stdout",
     "output_type": "stream",
     "text": [
      "H\n",
      "This is a private function\n",
      "Hi! I am David Roldán Álvarez. I am 30 years old. My DNI is 58596541Q.\n"
     ]
    }
   ],
   "source": [
    "class Person:\n",
    "    \n",
    "    @staticmethod\n",
    "    def dni_letter(dni_number):\n",
    "        letters = {0: \"T\", 1: \"R\", 2: \"W\", 3: \"A\", 4: \"G\", 5: \"M\", 6: \"Y\", 7: \"F\", 8: \"P\", 9: \"D\", 10: \"X\", 11: \"B\", 12: \"N\",\n",
    "                   13: \"J\", 14: \"Z\", 15: \"S\", 16: \"Q\", 17: \"V\", 18: \"H\", 19: \"L\", 20: \"C\", 21: \"K\", 22: \"E\"            \n",
    "        }\n",
    "        return letters[dni_number % 23]\n",
    "        \n",
    "        \n",
    "    def __init__(self, name, surname, age):\n",
    "        self.name = name\n",
    "        self.surname = surname\n",
    "        self.array_numbers = []\n",
    "        self.age = age\n",
    "        #atributo privado\n",
    "        self.__dni = \"58596541\" + self.dni_letter(58596541)\n",
    "     \n",
    "    #definimos una funcion que recibe el nombre y cambia el nombre de la instancia.\n",
    "    def change_name(self, name):\n",
    "        self.name = name\n",
    "    \n",
    "    #función privada\n",
    "    def __private_function(self):\n",
    "        print(\"This is a private function\")\n",
    "        \n",
    "    def display_attributes(self):\n",
    "        self.__private_function()\n",
    "        print(\"Hi! I am {} {}. I am {} years old. My DNI is {}.\".format(self.name, self.surname, self.age, self.__dni))\n",
    "        \n",
    "print(Person.dni_letter(47467349))\n",
    "david = Person(\"David\", \"Roldán Álvarez\", 30)\n",
    "david.display_attributes()\n",
    "#también podemos llamar a un método estático sin necesidad de instanciar una clase que pudiera ser instanciada."
   ]
  },
  {
   "cell_type": "markdown",
   "metadata": {},
   "source": [
    "### 2.3 Herencia"
   ]
  },
  {
   "cell_type": "markdown",
   "metadata": {},
   "source": [
    "En lugar de partir de cero, es posible crear clases que deriven de otras ya existentes.\n",
    "\n",
    "    class Student(Person):\n",
    "\n",
    "La clase \"hija\" heredará los atributos y los métodos de la clase padre."
   ]
  },
  {
   "cell_type": "code",
   "execution_count": 34,
   "metadata": {},
   "outputs": [
    {
     "name": "stdout",
     "output_type": "stream",
     "text": [
      "Student: I am David Roldán Álvarez. I am 3 years old.\n"
     ]
    }
   ],
   "source": [
    "class Student(Person):\n",
    "    def print_student(self):\n",
    "         print(\"Student: I am {} {}. I am {} years old.\".format(self.name, self.surname, self.age))\n",
    "            \n",
    "pst_student = Student(\"David\", \"Roldán Álvarez\", 3)\n",
    "pst_student.print_student()"
   ]
  },
  {
   "cell_type": "markdown",
   "metadata": {},
   "source": [
    "Si bien lo anterior podría sernos útil, el interés de la herencia radica en la posibilidad de sobrecargar los métodos de la clase padre. Es decir, podemos utilizar la funcionalidad de la clase padre y añadir extras a la clase hija."
   ]
  },
  {
   "cell_type": "code",
   "execution_count": 38,
   "metadata": {},
   "outputs": [
    {
     "name": "stdout",
     "output_type": "stream",
     "text": [
      "This is a private function\n",
      "Hi! I am David Roldán Álvarez. I am 30 years old. My DNI is 58596541Q.\n",
      "Hi! I am David Roldán Álvarez. I am 3 years old. I am enrolled in PST\n"
     ]
    }
   ],
   "source": [
    "class Student(Person):\n",
    "\n",
    "    def __init__(self, name, surname, age, subject):\n",
    "        ##utilizamos el método de la clase padre\n",
    "        super().__init__(name, surname, age)\n",
    "        self.subject = subject\n",
    "        \n",
    "    #sobrecargamos el método de la clase padre    \n",
    "    def display_attributes(self):\n",
    "        print(\"Hi! I am {} {}. I am {} years old. I am enrolled in {}\".format(\n",
    "            self.name, self.surname, self.age, self.subject))\n",
    "        \n",
    "    def child_function(self):\n",
    "        print(\"Child function\")\n",
    "        \n",
    "david = Person(\"David\", \"Roldán Álvarez\", 30)        \n",
    "pst_student = Student(\"David\", \"Roldán Álvarez\", 3, \"PST\")\n",
    "\n",
    "david.display_attributes()\n",
    "pst_student.display_attributes()"
   ]
  },
  {
   "cell_type": "code",
   "execution_count": null,
   "metadata": {},
   "outputs": [],
   "source": []
  }
 ],
 "metadata": {
  "kernelspec": {
   "display_name": "Python 3",
   "language": "python",
   "name": "python3"
  },
  "language_info": {
   "codemirror_mode": {
    "name": "ipython",
    "version": 3
   },
   "file_extension": ".py",
   "mimetype": "text/x-python",
   "name": "python",
   "nbconvert_exporter": "python",
   "pygments_lexer": "ipython3",
   "version": "3.6.9"
  }
 },
 "nbformat": 4,
 "nbformat_minor": 4
}
