{
 "cells": [
  {
   "cell_type": "markdown",
   "metadata": {},
   "source": [
    "# Introducción: Jupyter Notebook\n",
    "\n",
    "`Jupyter Notebook` es una aplicación web que permite crear y compartir documentos que contienen código fuente, ecuaciones, visualizaciones y texto explicativo. Nos permite enseñar código de una manera limpia y es generalmente usado para el tratado y visualización de datos. Utilizaremos esta herramienta durante las clases de teoría."
   ]
  },
  {
   "cell_type": "markdown",
   "metadata": {},
   "source": [
    "## 1.1 Instalación Python 3\n",
    "\n",
    "Para utilizar `Jupyter Notebook`correctamente el primer paso es instalar Python 3. Para descargar Python 3 únicamente tendremos que elegir la distribución correspondiente según el sistema operativo que estemos utilizando. Podemos descargar Python 3 del siguiente [enlace](https://www.python.org/downloads/). Es importante agregar Python a PATH para que los comandos sean detectados en la consola de comandos (La opción aparece a la hora de instalar Python).\n",
    "\n",
    "En Linux se puede instalar Python3 mediante el comando:\n",
    "\n",
    "        sudo apt-get install python3\n",
    "        \n",
    "\n",
    "\n",
    "## 1.2 Instalación Jupyter Notebook\n",
    "\n",
    "Una vez instalado Python 3 procederemos a instalar `Jupyter Notebook`. La instalación variará dependiendo del sistema operativo que utilicemos. En la consola del sistema operativo correspondiente habrá que ejecutar los siguientes comandos.\n",
    "\n",
    "   ### Windows\n",
    "\n",
    "        python -m pip install --upgrade pip\n",
    "        pip install jupyter\n",
    "        jupyter-notebook  \n",
    "\n",
    "   ### Mac\n",
    "\n",
    "        python3 -m pip install --upgrade pip\n",
    "        pip3 install jupyter\n",
    "        jupyter-notebook  \n",
    "        \n",
    "   ### Linux\n",
    "\n",
    "        Comandos de Windows o de Linux dependiendo de si hay una instalación previa de Python 2.\n",
    "        \n",
    "## 1.3 Instalación de Pycharm\n",
    "\n",
    "Durante las prácticas, utilizaremos el IDE Pycharm, que además de ser el instalado en los laboratorios de la Universidad es el que nos ofrece su versión profesional al ser estudiantes de la URJC. En primer lugar tendremos que crear una cuenta en este [enlace](https://www.jetbrains.com/shop/eform/students) utilizando el correo de la URJC. Posteriormente seguiremos el correo enviado para validar la cuenta.\n",
    "Por último, descargaremos la versión profesional del IDE en este [enlace](https://www.jetbrains.com/es-es/pycharm/download/#section=windows)\n",
    "Una vez iniciemos la aplicación nos pedirá nuestro usuario y contraseña. Una vez introducidos ya tendremos acceso a la aplicación.\n",
    "  \n",
    "\n",
    "## 1.4 Ejecución\n",
    "\n",
    "Es importante tener en cuenta que podemos crear nuestros scripts desde `Jupyter Notebook`, pero también podemos crear nuestros scripts desde un fichero de texto y ejecutarlo desde la consola de comandos. En este curso aprenderemos a ejecutar scripts de las dos formas. Una no es mejor que la otra, dependerá de los gustos de cada uno. Si bien cabe destacar que durante la teoría el profesor utilizará Jupyter Notebook para explicar los conceptos y en la práctica se utilizarán ficheros de textos (creados desde Pycharm) para programar.\n",
    "\n",
    "Es recomendable que el estudiante, para realizar los ejercicios que se propongan durante las clases de teoría, utilize Pycharm para programar para irse acostumbrando al entorno. Para ello abre un nuevo proyecto en Pycharm y ve creando los ficheros que consideres oportunos para probar el código que vayamos viendo en clase.\n",
    "\n"
   ]
  },
  {
   "cell_type": "markdown",
   "metadata": {},
   "source": [
    "# Tema 1: Aspectos básicos de Python 3\n",
    "\n",
    "## 1.1. Primer programa\n",
    "\n",
    "La función más importante (y la más básica) que vamos a aprender a en este módulo se llama `print()`. Con esta función podemos imprimir cualquier cosa que se le pase como argumento (y que se pueda convertir en una cadena de texto, tipo de dato que veremos en la siguiente sección. Con `print()` seremos capaces de depurar nuestros scripts, dicho de otro modo, de arreglar cualquier error que nos encontremos."
   ]
  },
  {
   "cell_type": "code",
   "execution_count": 21,
   "metadata": {},
   "outputs": [
    {
     "name": "stdout",
     "output_type": "stream",
     "text": [
      "Mi primer script utilizando Python 3\n"
     ]
    }
   ],
   "source": [
    "print(\"Mi primer script utilizando Python 3\")"
   ]
  },
  {
   "cell_type": "markdown",
   "metadata": {},
   "source": [
    "## 1.2 Tipos, variables y operadores\n",
    "\n",
    "Python 3 trabaja con diferentes tipos de datos. Los más importantes son 3: números, cadenas y booleanos. Estos datos por si mismos no tienen valor, son palabras en el aire. Para poder utilizarlos correctamente"
   ]
  },
  {
   "cell_type": "markdown",
   "metadata": {},
   "source": [
    "### 1.2.1 Números"
   ]
  },
  {
   "cell_type": "code",
   "execution_count": 11,
   "metadata": {},
   "outputs": [
    {
     "name": "stdout",
     "output_type": "stream",
     "text": [
      "Tipo de variable: <class 'int'> valor:  4\n",
      "Tipo de variable: <class 'float'> valor:  3.5\n",
      "14.0\n",
      "-0.5\n",
      "5\n",
      "7.0\n"
     ]
    }
   ],
   "source": [
    "number_1 = 4\n",
    "print(\"Tipo de variable:\", type(number_1), \"valor: \", number_1)\n",
    "\n",
    "number_2 = 3.5\n",
    "print(\"Tipo de variable:\", type(number_2), \"valor: \", number_2)\n",
    "\n",
    "print(number_1 * number_2)\n",
    "print(number_2 - number_1)\n",
    "\n",
    "number_1 += 1\n",
    "number_2 *= 2\n",
    "\n",
    "print(number_1)\n",
    "print(number_2)"
   ]
  },
  {
   "cell_type": "markdown",
   "metadata": {},
   "source": [
    "### 1.2.2 Booleanos\n",
    "\n",
    "Un valor booleano solo puede ser True o False. Al igual que ocurre con los valores numéricos, se pueden realizar operaciones con estos valores booleanos."
   ]
  },
  {
   "cell_type": "code",
   "execution_count": 4,
   "metadata": {},
   "outputs": [
    {
     "name": "stdout",
     "output_type": "stream",
     "text": [
      "<class 'bool'> <class 'bool'>\n",
      "True False\n",
      "False\n",
      "True\n",
      "False True\n",
      "False\n",
      "True\n",
      "False\n",
      "True\n"
     ]
    }
   ],
   "source": [
    "bool1 = True\n",
    "bool2 = False\n",
    "\n",
    "print(type(bool1), type(bool2))\n",
    "print(bool1, bool2)\n",
    "\n",
    "print(bool1 and bool2)\n",
    "print(bool1 or bool2)\n",
    "print(not bool1, not bool2)\n",
    "\n",
    "number1 = 10\n",
    "number2 = 20\n",
    "\n",
    "print(number1 > number2)\n",
    "print(number1 < number2)\n",
    "print(number1 == number2)\n",
    "print(number1 != bool1)\n",
    "\n"
   ]
  },
  {
   "cell_type": "markdown",
   "metadata": {},
   "source": [
    "### 1.2.3 Cadenas de caracteres\n",
    "\n",
    "En Python 3, una cadena es una secuencia de caracteres. Esta secuencia también puede ser guardadaen variables. A partir de ahora nos referiremos a estas cadenas como`strings`. Hay tres formas de guardar strings e Python 3.\n"
   ]
  },
  {
   "cell_type": "code",
   "execution_count": 13,
   "metadata": {},
   "outputs": [
    {
     "name": "stdout",
     "output_type": "stream",
     "text": [
      "Esto es un \"ejemplo\" de una cadena de caracteres\n",
      "---\n",
      "Esto es 'otro ejemplo' de una cadena de caracteres\n",
      "---\n",
      "Esta cadena realmente no es útil\n",
      "---\n",
      "Pero esta cadena\n",
      "si que es útil.\n",
      "---\n"
     ]
    }
   ],
   "source": [
    "comillas_simples = 'Esto es un \"ejemplo\" de una cadena de caracteres'\n",
    "comillas_dobles = \"Esto es 'otro ejemplo' de una cadena de caracteres\"\n",
    "comillas_triples = \"\"\"Esta cadena realmente no es útil\"\"\"\n",
    "comillas_triples_2 = \"\"\"Pero esta cadena\n",
    "si que es útil.\"\"\"\n",
    "\n",
    "print(comillas_simples)\n",
    "print(\"---\")\n",
    "print(comillas_dobles)\n",
    "print(\"---\")\n",
    "print(comillas_triples)\n",
    "print(\"---\")\n",
    "print(comillas_triples_2)\n",
    "print(\"---\")"
   ]
  },
  {
   "cell_type": "code",
   "execution_count": 14,
   "metadata": {},
   "outputs": [
    {
     "name": "stdout",
     "output_type": "stream",
     "text": [
      "o\n"
     ]
    }
   ],
   "source": [
    "### podemos intentar acceder a un carácter de la cadena\n",
    "print(comillas_simples[3])"
   ]
  },
  {
   "cell_type": "code",
   "execution_count": 15,
   "metadata": {},
   "outputs": [
    {
     "ename": "TypeError",
     "evalue": "'str' object does not support item assignment",
     "output_type": "error",
     "traceback": [
      "\u001b[1;31m---------------------------------------------------------------------------\u001b[0m",
      "\u001b[1;31mTypeError\u001b[0m                                 Traceback (most recent call last)",
      "\u001b[1;32m<ipython-input-15-4c9117e76bb0>\u001b[0m in \u001b[0;36m<module>\u001b[1;34m\u001b[0m\n\u001b[0;32m      1\u001b[0m \u001b[1;31m### pero no podemos modificarlo\u001b[0m\u001b[1;33m\u001b[0m\u001b[1;33m\u001b[0m\u001b[0m\n\u001b[1;32m----> 2\u001b[1;33m \u001b[0mcomillas_simples\u001b[0m\u001b[1;33m[\u001b[0m\u001b[1;36m3\u001b[0m\u001b[1;33m]\u001b[0m \u001b[1;33m=\u001b[0m \u001b[1;34m'h'\u001b[0m\u001b[1;33m\u001b[0m\u001b[0m\n\u001b[0m",
      "\u001b[1;31mTypeError\u001b[0m: 'str' object does not support item assignment"
     ]
    }
   ],
   "source": [
    "### pero no podemos modificarlo\n",
    "comillas_simples[3] = 'h'"
   ]
  },
  {
   "cell_type": "code",
   "execution_count": 17,
   "metadata": {},
   "outputs": [
    {
     "name": "stdout",
     "output_type": "stream",
     "text": [
      "Esto es un \"ejemplo\" de una cadena de caracteres Esto es 'otro ejemplo' de una cadena de caracteres\n"
     ]
    }
   ],
   "source": [
    "### podemos concatenar cadenas\n",
    "cadena_concat = comillas_simples + \" \" + comillas_dobles\n",
    "print(cadena_concat)"
   ]
  },
  {
   "cell_type": "code",
   "execution_count": 18,
   "metadata": {},
   "outputs": [
    {
     "ename": "TypeError",
     "evalue": "must be str, not bool",
     "output_type": "error",
     "traceback": [
      "\u001b[1;31m---------------------------------------------------------------------------\u001b[0m",
      "\u001b[1;31mTypeError\u001b[0m                                 Traceback (most recent call last)",
      "\u001b[1;32m<ipython-input-18-a2e6f094e373>\u001b[0m in \u001b[0;36m<module>\u001b[1;34m\u001b[0m\n\u001b[0;32m      1\u001b[0m \u001b[1;31m### pero no podemos concatenar datos de diferentes tipos\u001b[0m\u001b[1;33m\u001b[0m\u001b[1;33m\u001b[0m\u001b[0m\n\u001b[1;32m----> 2\u001b[1;33m \u001b[0mprint\u001b[0m\u001b[1;33m(\u001b[0m\u001b[0mcomillas_simples\u001b[0m \u001b[1;33m+\u001b[0m \u001b[0mbool1\u001b[0m\u001b[1;33m)\u001b[0m\u001b[1;33m\u001b[0m\u001b[0m\n\u001b[0m",
      "\u001b[1;31mTypeError\u001b[0m: must be str, not bool"
     ]
    }
   ],
   "source": [
    "### pero no podemos concatenar datos de diferentes tipos\n",
    "print(comillas_simples + bool1)"
   ]
  },
  {
   "cell_type": "code",
   "execution_count": 20,
   "metadata": {},
   "outputs": [
    {
     "name": "stdout",
     "output_type": "stream",
     "text": [
      "Esto es un \"ejemplo\" de una cadena de caracteres True\n"
     ]
    }
   ],
   "source": [
    "### Aunque si es posible, podemos transformar un tipo de dato a otro. \n",
    "### Vamos a transformar bool1 en un string\n",
    "\n",
    "print(comillas_simples + \" \" + str(bool1))\n",
    "#y ya funcionaría"
   ]
  },
  {
   "cell_type": "markdown",
   "metadata": {},
   "source": [
    "## 1.3 Estructuras de datos simples\n",
    "\n",
    "### 1.3.1 Listas\n",
    "\n",
    "Las listas son los contenedores de datos principales que utilizaremos a lo largo de este modulo. Una lista es una secuencia de datos que pueden ser o no del mismo tipo."
   ]
  },
  {
   "cell_type": "code",
   "execution_count": 7,
   "metadata": {},
   "outputs": [
    {
     "name": "stdout",
     "output_type": "stream",
     "text": [
      "[4, 25, 90, 10]\n",
      "['hola', 'que', 'tal', 'estais']\n",
      "Longitud lista 1: 4\n",
      "hola\n",
      "10\n",
      "[4, 10, 90, 10]\n",
      "[4, 10, 90, 10, 'hola']\n"
     ]
    }
   ],
   "source": [
    "lista1 = [4, 25, 90, 10]\n",
    "print(lista1)\n",
    "\n",
    "lista2 = [\"hola\", \"que\", \"tal\", \"estais\"]\n",
    "print(lista2)\n",
    "\n",
    "#podemos saber la longitud de una lista\n",
    "print(\"Longitud lista 1:\", len(lista1))\n",
    "\n",
    "#podemos acceder a un elemento de la lista\n",
    "print(lista2[0])\n",
    "print(lista1[-1])\n",
    "\n",
    "#y a diferencia de lo que ocurre con los strings, podemos modificar un elemento concreto.\n",
    "\n",
    "lista1[1] = 10\n",
    "print(lista1)\n",
    "\n",
    "#para añadir un elemento a una lista sólamente tenemos que utilizar la función append()\n",
    "lista1.append(\"hola\")\n",
    "print(lista1)"
   ]
  },
  {
   "cell_type": "markdown",
   "metadata": {},
   "source": [
    "### 1.3.2 Diccionarios\n",
    "\n",
    "Los diccionarios son estructuras de datos que almacenan la información en formato clave -> valor. Cada clave es única de manera que cuando buscamos dicha clave no hay ninguna otra coincidencia y: o se obtiene el valor correspondiente o se lanza la excepción KeyError si la clave no es encontrada.\n"
   ]
  },
  {
   "cell_type": "code",
   "execution_count": 3,
   "metadata": {},
   "outputs": [
    {
     "name": "stdout",
     "output_type": "stream",
     "text": [
      "davidrol\n",
      "30\n",
      "Biomedical Engineering\n",
      "davidrol\n",
      "david\n",
      "roldan\n",
      "30\n",
      "Biomedical Engineering\n"
     ]
    }
   ],
   "source": [
    "user_dict = {\"username\": \"davidrol\", \"name\": \"david\", \"surname\": \"roldan\",\n",
    "            \"age\": 30, \"degree\": \"Biomedical Engineering\"}\n",
    "\n",
    "print(user_dict[\"username\"])\n",
    "print(user_dict[\"age\"])\n",
    "print(user_dict[\"degree\"])\n",
    "print(user_dict[\"doesnotexist\"])"
   ]
  },
  {
   "cell_type": "code",
   "execution_count": null,
   "metadata": {},
   "outputs": [],
   "source": [
    "list_keys = [\"username\", \"name\", \"surname\", \"age\", \"degree\"]\n",
    "list_values = [\"davidrol\", \"david\", \"roldan\", 30, \"Biomedical Engineering\"]\n",
    "dict_data_2 = dict(zip(list_keys, list_values))\n",
    "\n",
    "print(dict_data_2)\n",
    "print(dict_data_2[\"name\"])"
   ]
  },
  {
   "cell_type": "code",
   "execution_count": null,
   "metadata": {},
   "outputs": [],
   "source": [
    "dict_data_3 = dict([(\"username\", \"davidrol\"), (\"name\", \"david\"),\n",
    "                   (\"surname\", \"roldan\"), (\"age\", 30), \n",
    "                    (\"degree\", \"Biomedical Engineering\")])\n",
    "\n",
    "print(dict_data_3)\n",
    "print(dict_data_3[\"name\"])"
   ]
  },
  {
   "cell_type": "code",
   "execution_count": null,
   "metadata": {},
   "outputs": [],
   "source": [
    "del dict_data_2[\"surname\"]\n",
    "print(dict_data_2)\n",
    "\n",
    "dict_data_2.clear()\n",
    "print(dict_data_2)\n",
    "\n",
    "dict_data_2.update([(\"surname2\", \"alvarez\")])\n",
    "print(dict_data_2)"
   ]
  },
  {
   "cell_type": "markdown",
   "metadata": {},
   "source": [
    "## 1.4 Estructuras de control\n",
    "\n",
    "Python 3 no posee ni llaves, ni begin...end para demarcar el comienzo y el fin de un bloque, si no que esto se consigue mediante la indentación (Tab). Para crear scripts útiles, en muchas ocasiones necesitaremos establecer condiciones y bucles que nos permitan automatizar determinadas tareas\n",
    "\n",
    "### 1.4.1 IF\n",
    "\n",
    "La estructura de control `if` permite que un programa ejecute unas instrucciones u otras según si se cumple una condición o no. Si no se cumple la condición podemos ejecutar otras instrucciones mediante la clausula `else`. Para facilitar las pruebas que vamos a realizar, es necesario introducir la función `input()`. Hasta ahora hemos dado valores a las variables a mano, pero esto casi nunca es así, si no que es un usuario el que determina que valores va a utilizar nuestro script."
   ]
  },
  {
   "cell_type": "code",
   "execution_count": 31,
   "metadata": {},
   "outputs": [
    {
     "name": "stdout",
     "output_type": "stream",
     "text": [
      "Introduce un número: 0\n",
      "El valor es 0\n"
     ]
    }
   ],
   "source": [
    "#Pedimos que el usuario introduzca un valor\n",
    "valor = int(input(\"Introduce un número: \"))\n",
    "\n",
    "if valor > 0:\n",
    "    print(\"El valor es positivo\")\n",
    "elif valor < 0:\n",
    "    print(\"El valor es negativo\")\n",
    "else:\n",
    "    print(\"El valor es 0\")\n",
    "    \n",
    "#No sabemos que valor va a introducir el usuario, por lo que\n",
    "#es necesario tratarlo antes de operar con él"
   ]
  },
  {
   "cell_type": "markdown",
   "metadata": {},
   "source": [
    "### 1.4.2 While\n",
    "\n",
    "La sentencia `while` nos  permite repetir la ejecución de un bloque de sentencias mientras se cumpla una determinada condición. "
   ]
  },
  {
   "cell_type": "code",
   "execution_count": 32,
   "metadata": {},
   "outputs": [
    {
     "name": "stdout",
     "output_type": "stream",
     "text": [
      "1\n",
      "2\n",
      "3\n",
      "4\n",
      "5\n",
      "Sale del bucle\n"
     ]
    }
   ],
   "source": [
    "valor = 1\n",
    "while valor <= 5:\n",
    "    print(valor)\n",
    "    valor += 1\n",
    "print(\"Sale del bucle\")"
   ]
  },
  {
   "cell_type": "code",
   "execution_count": 1,
   "metadata": {},
   "outputs": [
    {
     "name": "stdout",
     "output_type": "stream",
     "text": [
      "Introduce un número: 5\n",
      "El número es mayor\n",
      "Introduce un número: 25\n",
      "¡Has acertado!\n"
     ]
    }
   ],
   "source": [
    "#Creemos un juego\n",
    "numero = 25\n",
    "acertado = False\n",
    "\n",
    "while not acertado:\n",
    "    intento = int(input(\"Introduce un número: \"))\n",
    "    if intento == numero:\n",
    "        print(\"¡Has acertado!\")\n",
    "        acertado = True\n",
    "    elif intento < numero:\n",
    "        print(\"El número es mayor\")\n",
    "    else:\n",
    "        print(\"El número es menor\")"
   ]
  },
  {
   "cell_type": "markdown",
   "metadata": {},
   "source": [
    "### 1.4.3 For\n",
    "\n",
    "La sentencia for permite repetir varias veces el mismo bloque de sentencias acorde a lo que llamaremos un objeto iterable (una lista es un iterable)."
   ]
  },
  {
   "cell_type": "code",
   "execution_count": 2,
   "metadata": {},
   "outputs": [
    {
     "name": "stdout",
     "output_type": "stream",
     "text": [
      "hola\n",
      "True\n",
      "1\n",
      "2.0\n",
      "se acabo\n"
     ]
    }
   ],
   "source": [
    "### tenemos la lista\n",
    "lista = [\"hola\", True, 1, 2.0, \"se acabo\"]\n",
    "for elemento in lista:\n",
    "    print(elemento)"
   ]
  },
  {
   "cell_type": "code",
   "execution_count": 4,
   "metadata": {},
   "outputs": [
    {
     "name": "stdout",
     "output_type": "stream",
     "text": [
      "Los números mayores que 5 son [6, 10] y su suma es 16\n"
     ]
    }
   ],
   "source": [
    "#podemos encapsular bloques dentro de otros bloques.\n",
    "lista = [1, 3, 5, 6, 10]\n",
    "buscados = []\n",
    "suma = 0\n",
    "for elemento in lista:\n",
    "    if elemento > 5:\n",
    "        buscados.append(elemento)\n",
    "        suma = suma + elemento\n",
    "print(\"Los números mayores que 5 son\", str(buscados), \"y su suma es\", suma)"
   ]
  },
  {
   "cell_type": "markdown",
   "metadata": {},
   "source": [
    "## ¿Cómo iteramos dentro de un diccionario?"
   ]
  },
  {
   "cell_type": "code",
   "execution_count": null,
   "metadata": {},
   "outputs": [],
   "source": []
  },
  {
   "cell_type": "markdown",
   "metadata": {},
   "source": [
    "## 1.5 Funciones\n",
    "\n",
    "A medida que nuestros scripts crecen en número de líneas de código se convierten en poco manejables, haciendo que su modificación y mantenimiento conlleven más tiempo del deseado. Para definir una función utilizaremos la siguiente sintaxis\n",
    "\n",
    "```python\n",
    "def suma(arg1, arg2)\n",
    "    resultado = arg1 + arg2\n",
    "    return resultado\n",
    "\n",
    "#programa principal\n",
    "valor1 = 10\n",
    "valor2 = 20\n",
    "\n",
    "print(suma(valor1, valor2))\n",
    "```"
   ]
  },
  {
   "cell_type": "markdown",
   "metadata": {},
   "source": [
    "# Ejercicios\n",
    "\n",
    "### Ejercicio 1: Definir una función que reciba dos números y devuelva el mayor de ellos (Con su correspondiente prueba de que funciona)."
   ]
  },
  {
   "cell_type": "code",
   "execution_count": null,
   "metadata": {},
   "outputs": [],
   "source": []
  },
  {
   "cell_type": "markdown",
   "metadata": {},
   "source": [
    "### Ejercicio 2: Definir una función que reciba un caracter escrito por el usuario y devuelva True si ese carácter es un número y False en caso contrario."
   ]
  },
  {
   "cell_type": "code",
   "execution_count": null,
   "metadata": {},
   "outputs": [],
   "source": []
  },
  {
   "cell_type": "markdown",
   "metadata": {},
   "source": [
    "### Ejercicio 3: Recibir un número del usuario e imprimir por pantalla si ese número se encuentra entre 0 y 100."
   ]
  },
  {
   "cell_type": "code",
   "execution_count": null,
   "metadata": {},
   "outputs": [],
   "source": []
  },
  {
   "cell_type": "markdown",
   "metadata": {},
   "source": [
    "### Ejercicio 4: Recibe una cadena de texto del usuario y determina si un carácter, escrito también por el usuario, se encuentra en dicha cadena."
   ]
  },
  {
   "cell_type": "code",
   "execution_count": null,
   "metadata": {},
   "outputs": [],
   "source": []
  },
  {
   "cell_type": "markdown",
   "metadata": {},
   "source": [
    "### Ejercicio 5: Escribe un script que reciba números ilimitados del usuario, pare cuando reciba 0, y escriba la media de los números recibidos."
   ]
  },
  {
   "cell_type": "code",
   "execution_count": null,
   "metadata": {},
   "outputs": [],
   "source": []
  },
  {
   "cell_type": "markdown",
   "metadata": {},
   "source": [
    "### Ejercicio 6: Escribe una función que reciba una lista y devuelva una lista con los valores ordenados de manera ascendente."
   ]
  },
  {
   "cell_type": "code",
   "execution_count": null,
   "metadata": {},
   "outputs": [],
   "source": []
  },
  {
   "cell_type": "markdown",
   "metadata": {},
   "source": [
    "### Ejercicio 7: Escribe una función que reciba una lista de números y devuelva la suma de todos esos números."
   ]
  },
  {
   "cell_type": "code",
   "execution_count": null,
   "metadata": {},
   "outputs": [],
   "source": []
  }
 ],
 "metadata": {
  "kernelspec": {
   "display_name": "Python 3",
   "language": "python",
   "name": "python3"
  },
  "language_info": {
   "codemirror_mode": {
    "name": "ipython",
    "version": 3
   },
   "file_extension": ".py",
   "mimetype": "text/x-python",
   "name": "python",
   "nbconvert_exporter": "python",
   "pygments_lexer": "ipython3",
   "version": "3.6.9"
  }
 },
 "nbformat": 4,
 "nbformat_minor": 2
}
